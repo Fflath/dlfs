{
 "cells": [
  {
   "cell_type": "code",
   "execution_count": null,
   "id": "3a2d8fe6",
   "metadata": {},
   "outputs": [],
   "source": [
    "#| default_exp Trainer"
   ]
  },
  {
   "cell_type": "code",
   "execution_count": null,
   "id": "0195d60b",
   "metadata": {},
   "outputs": [
    {
     "name": "stdout",
     "output_type": "stream",
     "text": [
      "The autoreload extension is already loaded. To reload it, use:\n",
      "  %reload_ext autoreload\n"
     ]
    }
   ],
   "source": [
    "#|hide\n",
    "%load_ext autoreload\n",
    "%autoreload 2"
   ]
  },
  {
   "cell_type": "code",
   "execution_count": null,
   "id": "e9ec3359",
   "metadata": {},
   "outputs": [],
   "source": [
    "#| export\n",
    "from dlfs import *"
   ]
  },
  {
   "cell_type": "code",
   "execution_count": null,
   "id": "c5e43632",
   "metadata": {},
   "outputs": [],
   "source": [
    "#|export\n",
    "from torch import tensor,nn,no_grad\n",
    "import torch\n",
    "import torch.nn.functional as F\n",
    "import fastcore.all as fc\n"
   ]
  },
  {
   "cell_type": "code",
   "execution_count": null,
   "id": "7af245fc",
   "metadata": {},
   "outputs": [],
   "source": [
    "t,v=Dataset.get_dataset()"
   ]
  },
  {
   "cell_type": "code",
   "execution_count": null,
   "id": "8c58eb64",
   "metadata": {},
   "outputs": [],
   "source": [
    "#| export\n",
    "class Optimizer():\n",
    "    def __init__(self, params, lr=0.5): self.params,self.lr=list(params),lr\n",
    "\n",
    "    def step(self):\n",
    "        with no_grad():\n",
    "            for p in self.params: p -= p.grad * self.lr\n",
    "\n",
    "    def zero_grad(self):\n",
    "        for p in self.params: p.grad.data.zero_()"
   ]
  },
  {
   "cell_type": "code",
   "execution_count": null,
   "id": "0a4453c0",
   "metadata": {},
   "outputs": [],
   "source": [
    "m = 28*28\n",
    "nh = 50\n",
    "epochs=3"
   ]
  },
  {
   "cell_type": "code",
   "execution_count": null,
   "id": "ccce3a35",
   "metadata": {},
   "outputs": [],
   "source": [
    "class Trainer():\n",
    "    def __init__(self, model, optimizer, loss_fn, train_data, validate_data, lr=0.5): \n",
    "        fc.store_attr()\n",
    "    def one_batch(self): \n",
    "        xb,yb = self.batch\n",
    "        preds = self.model(xb)\n",
    "        self.loss = self.loss_fn(preds, yb)\n",
    "        self.loss.backward()\n",
    "        self.optimizer.step()\n",
    "        self.optimizer.zero_grad()\n",
    "    def validate(self):\n",
    "        self.model.eval()\n",
    "        with torch.no_grad():\n",
    "            tot_loss,tot_acc,count = 0.,0.,0\n",
    "            for xb,yb in iter(self.validate_data):\n",
    "                pred = self.model(xb)\n",
    "                n = len(xb)\n",
    "                count += n\n",
    "                tot_loss += loss_func(pred,yb).item()*n\n",
    "                tot_acc  += Dataset.accuracy (pred,yb).item()*n\n",
    "        print(self.num, tot_loss/count, tot_acc/count)   \n",
    "    def one_epoch(self): \n",
    "        for self.num,self.batch in enumerate(self.train_data):\n",
    "            self.one_batch()\n",
    "        self.validate()\n",
    "        \n",
    "    def fit(self, num_epochs):\n",
    "        for i in range(num_epochs): self.one_epoch()\n",
    "        "
   ]
  },
  {
   "cell_type": "code",
   "execution_count": null,
   "id": "f4e87f27",
   "metadata": {},
   "outputs": [],
   "source": [
    "model = nn.Sequential(nn.Linear(m,nh), nn.ReLU(), nn.Linear(nh,10))\n",
    "opt = Optimizer(model.parameters())\n",
    "loss_func=nn.CrossEntropyLoss()"
   ]
  },
  {
   "cell_type": "code",
   "execution_count": null,
   "id": "85e70ca8",
   "metadata": {},
   "outputs": [
    {
     "name": "stdout",
     "output_type": "stream",
     "text": [
      "749 2.305005474726359 0.09675\n",
      "749 2.3034604269663492 0.10425\n",
      "749 2.304630044301351 0.101\n",
      "749 2.303306972503662 0.10075\n",
      "749 2.30386887550354 0.10425\n"
     ]
    }
   ],
   "source": [
    "train=Trainer(model, opt, loss_func,t,v)\n",
    "train.fit(5)"
   ]
  },
  {
   "cell_type": "code",
   "execution_count": null,
   "id": "a9ce9abc",
   "metadata": {},
   "outputs": [],
   "source": [
    "class Trainer():\n",
    "    def __init__(self, model, opt_func, loss_fn, train_data, validate_data, lr=0.5): \n",
    "        fc.store_attr()\n",
    "    def one_batch(self): \n",
    "        self.xb,self.yb = self.batch\n",
    "        self.preds = self.model(xb)\n",
    "        self.loss = self.loss_fn(preds, yb)\n",
    "        if self.model.training\n",
    "            self.loss.backward()\n",
    "            self.opt.step()\n",
    "            self.opt.zero_grad()\n",
    "        with torch.no_grad(): self.calc_stats()\n",
    "            \n",
    "    def calc_stats(self):\n",
    "        \n",
    " \n",
    "    def one_epoch(self,train): \n",
    "        self.model.training=train\n",
    "        dl = self.train_data if train else: self.validate_data\n",
    "        for self.num,self.batch in enumerate(dl): self.one_batch()\n",
    "        print(self.epoch, self.model.training, sum(self.losses).item()/n, sum(self.accs).item()/n)\n",
    "        \n",
    "    def fit(self, num_epochs):\n",
    "        self.accs, self.losses, self.ns = [],[],[]\n",
    "        self.opt=self.opt_func(model.parameters(), self.lr)\n",
    "        for self.epoch in range(num_epochs): self.one_epoch()\n",
    "        "
   ]
  },
  {
   "cell_type": "code",
   "execution_count": null,
   "id": "927b6968",
   "metadata": {},
   "outputs": [],
   "source": [
    "import nbdev; nbdev.nbdev_export()"
   ]
  }
 ],
 "metadata": {
  "kernelspec": {
   "display_name": "dlfs",
   "language": "python",
   "name": "dlfs"
  }
 },
 "nbformat": 4,
 "nbformat_minor": 5
}
