{
 "cells": [
  {
   "cell_type": "code",
   "execution_count": null,
   "id": "3a2d8fe6",
   "metadata": {},
   "outputs": [],
   "source": [
    "#| default_exp Learner"
   ]
  },
  {
   "cell_type": "code",
   "execution_count": null,
   "id": "0195d60b",
   "metadata": {},
   "outputs": [
    {
     "name": "stdout",
     "output_type": "stream",
     "text": [
      "The autoreload extension is already loaded. To reload it, use:\n",
      "  %reload_ext autoreload\n"
     ]
    }
   ],
   "source": [
    "#|hide\n",
    "%load_ext autoreload\n",
    "%autoreload 2"
   ]
  },
  {
   "cell_type": "code",
   "execution_count": null,
   "id": "e9ec3359",
   "metadata": {},
   "outputs": [],
   "source": [
    "#| export\n",
    "from dlfs.Dataset import *"
   ]
  },
  {
   "cell_type": "code",
   "execution_count": null,
   "id": "c5e43632",
   "metadata": {},
   "outputs": [],
   "source": [
    "#|export\n",
    "import math,torch,matplotlib.pyplot as plt\n",
    "from torch import tensor,nn,no_grad\n",
    "import torch\n",
    "import torch.nn.functional as F\n",
    "import fastcore.all as fc\n",
    "from torch import optim\n",
    "from copy import copy\n",
    "from fastprogress import progress_bar,master_bar\n",
    "from typing import Mapping\n",
    "import torchvision.transforms.functional as TF\n"
   ]
  },
  {
   "cell_type": "code",
   "execution_count": null,
   "id": "8c58eb64",
   "metadata": {},
   "outputs": [],
   "source": [
    "#| export\n",
    "class Optimizer():\n",
    "    def __init__(self, params, lr=0.5): self.params,self.lr=list(params),lr\n",
    "\n",
    "    def step(self):\n",
    "        with no_grad():\n",
    "            for p in self.params: p -= p.grad * self.lr\n",
    "\n",
    "    def zero_grad(self):\n",
    "        for p in self.params: p.grad.data.zero_()"
   ]
  },
  {
   "cell_type": "code",
   "execution_count": null,
   "id": "0f6b9fcf-c71a-4ce4-b64b-5a6e1c3b1791",
   "metadata": {},
   "outputs": [],
   "source": [
    "class Learner:\n",
    "    def __init__(self, model, dls, loss_func, lr, opt_func=optim.SGD): fc.store_attr()\n",
    "\n",
    "    def one_batch(self):\n",
    "        self.xb,self.yb = self.batch\n",
    "        self.preds = self.model(self.xb)\n",
    "        self.loss = self.loss_func(self.preds, self.yb)\n",
    "        if self.model.training:\n",
    "            self.loss.backward()\n",
    "            self.opt.step()\n",
    "            self.opt.zero_grad()\n",
    "        with torch.no_grad(): self.calc_stats()\n",
    "\n",
    "    def calc_stats(self):\n",
    "        acc = (self.preds.argmax(dim=1)==self.yb).float().sum()\n",
    "        self.accs.append(acc)\n",
    "        n = len(self.xb)\n",
    "        self.losses.append(self.loss*n)\n",
    "        self.ns.append(n)\n",
    "\n",
    "    def one_epoch(self, train):\n",
    "        self.model.training = train\n",
    "        dl = self.dls.train if train else self.dls.valid\n",
    "        for self.num,self.batch in enumerate(dl): self.one_batch()\n",
    "        n = sum(self.ns)\n",
    "        print(self.epoch, self.model.training, sum(self.losses).item()/n, sum(self.accs).item()/n)\n",
    "    \n",
    "    def fit(self, n_epochs):\n",
    "        self.accs,self.losses,self.ns = [],[],[]\n",
    "        # self.model.to(def_device)\n",
    "        self.opt = self.opt_func(self.model.parameters(), self.lr)\n",
    "        self.n_epochs = n_epochs\n",
    "        for self.epoch in range(n_epochs):\n",
    "            self.one_epoch(True)\n",
    "            with torch.no_grad(): self.one_epoch(False)"
   ]
  },
  {
   "cell_type": "code",
   "execution_count": null,
   "id": "4573757d-447d-4721-a4f5-f4ab7782a649",
   "metadata": {},
   "outputs": [
    {
     "name": "stderr",
     "output_type": "stream",
     "text": [
      "Found cached dataset fashion_mnist (/Users/felix/.cache/huggingface/datasets/fashion_mnist/fashion_mnist/1.0.0/8d6c32399aa01613d96e2cbc9b13638f359ef62bb33612b077b4c247f6ef99c1)\n"
     ]
    },
    {
     "data": {
      "application/vnd.jupyter.widget-view+json": {
       "model_id": "29e71d48a762463581afe880f1298c88",
       "version_major": 2,
       "version_minor": 0
      },
      "text/plain": [
       "  0%|          | 0/2 [00:00<?, ?it/s]"
      ]
     },
     "metadata": {},
     "output_type": "display_data"
    }
   ],
   "source": [
    "from datasets import load_dataset,load_dataset_builder\n",
    "x,y = 'image','label'\n",
    "name = \"fashion_mnist\"\n",
    "dsd = load_dataset(name)"
   ]
  },
  {
   "cell_type": "code",
   "execution_count": null,
   "id": "5657189d-64fd-4a96-8838-337137aa885e",
   "metadata": {},
   "outputs": [],
   "source": [
    "@inplace\n",
    "def transformi(b): b[x] = [torch.flatten(TF.to_tensor(o)) for o in b[x]]"
   ]
  },
  {
   "cell_type": "code",
   "execution_count": null,
   "id": "5792d93a-f139-4fa5-af5a-bbe05ec116b3",
   "metadata": {},
   "outputs": [],
   "source": [
    "bs = 1024\n",
    "tds = dsd.with_transform(transformi)\n",
    "    "
   ]
  },
  {
   "cell_type": "code",
   "execution_count": null,
   "id": "075e3869-727f-4778-bb97-db4b690ce3c0",
   "metadata": {},
   "outputs": [
    {
     "data": {
      "text/plain": [
       "(torch.Size([1024, 784]), tensor([8, 2, 2, 9, 6, 4, 4, 6, 7, 9]))"
      ]
     },
     "execution_count": null,
     "metadata": {},
     "output_type": "execute_result"
    }
   ],
   "source": [
    "dls = DataLoaders.from_dd(tds, bs, num_workers=0)\n",
    "dt = dls.train\n",
    "xb,yb = next(iter(dt))\n",
    "xb.shape,yb[:10]"
   ]
  },
  {
   "cell_type": "code",
   "execution_count": null,
   "id": "786f9067-b528-47dd-9366-0c3f660e515d",
   "metadata": {},
   "outputs": [
    {
     "name": "stdout",
     "output_type": "stream",
     "text": [
      "0 True 1.1544134114583333 0.6107833333333333\n",
      "0 False 1.105757924107143 0.6230571428571429\n",
      "1 True 0.9187689302884615 0.6803461538461538\n",
      "1 False 0.9000624441964286 0.6855285714285714\n",
      "2 True 0.814020703125 0.713905\n",
      "2 False 0.8054018601190476 0.7165952380952381\n"
     ]
    }
   ],
   "source": [
    "m,nh,out = 28*28,50,10\n",
    "model = nn.Sequential(nn.Linear(m,nh), nn.ReLU(), nn.Linear(nh,out))\n",
    "\n",
    "learn = Learner(model, dls, F.cross_entropy, lr=0.2)\n",
    "learn.fit(3)\n"
   ]
  },
  {
   "cell_type": "markdown",
   "id": "b95c4ac8",
   "metadata": {},
   "source": [
    "## Callbacks"
   ]
  },
  {
   "cell_type": "code",
   "execution_count": null,
   "id": "aad55512",
   "metadata": {},
   "outputs": [],
   "source": [
    "#| export\n",
    "def identity(*args):\n",
    "    if not args: return\n",
    "    x,*args=args\n",
    "    return (x,)+tuple(args) if args else x"
   ]
  },
  {
   "cell_type": "code",
   "execution_count": null,
   "id": "99f1094f",
   "metadata": {},
   "outputs": [],
   "source": [
    "#| export \n",
    "class Callback: order = 0"
   ]
  },
  {
   "cell_type": "code",
   "execution_count": null,
   "id": "10014f11",
   "metadata": {},
   "outputs": [],
   "source": [
    "#| export\n",
    "from torcheval.metrics import MulticlassAccuracy,Mean\n",
    "\n",
    "class MetricsCB(Callback):\n",
    "    def __init__(self, *ms, **metrics): \n",
    "        for o in ms: metrics[type(o).__name__]=o\n",
    "        self.metrics=metrics\n",
    "        self.all_metrics=copy(metrics)\n",
    "        self.all_metrics['loss']=self.loss = Mean()\n",
    "        \n",
    "    def _log(self,d): print(d)\n",
    "        \n",
    "    def before_fit(self): self.learner.metrics=self\n",
    "    def before_epoch(self): [o.reset() for o in self.all_metrics.values()]\n",
    "    def after_epoch(self): \n",
    "        log={k:f'{v.compute():.3f}' for k,v in self.all_metrics.items()}\n",
    "        log['epoch'] = self.learner.epoch\n",
    "        log['train']=self.learner.model.training\n",
    "        self._log(log)\n",
    "    def after_batch(self):\n",
    "        x,y=self.learner.xb, self.learner.yb\n",
    "        for m in self.metrics.values(): m.update(self.learner.preds, y)\n",
    "        self.loss.update(self.learner.loss, weight=len(x))"
   ]
  },
  {
   "cell_type": "code",
   "execution_count": null,
   "id": "6b005e11",
   "metadata": {},
   "outputs": [],
   "source": [
    "#| export \n",
    "class ProgressCB(Callback):\n",
    "    order=MetricsCB.order+1\n",
    "    def __init__(self, plot=False): self.plot=plot\n",
    "    def before_fit(self):\n",
    "        self.learner.epochs = self.mbar = master_bar(self.learner.epochs)\n",
    "        self.first = True\n",
    "        if hasattr(self.learner,'metrics'): self.learner.metrics._log=self._log\n",
    "        self.losses=[]\n",
    "    def _log(self,d): \n",
    "        if self.first:\n",
    "            self.mbar.write(list(d), table=True)\n",
    "            self.first = False\n",
    "        self.mbar.write(list(d.values()), table=True)\n",
    "    def before_epoch(self): self.learner.dl = progress_bar(self.learner.dl, leave=False, parent = self.mbar)\n",
    "    def after_batch(self):\n",
    "        self.learner.dl.comment = f'{self.learner.loss: .3f}'\n",
    "        if self.plot and hasattr(self.learner, 'metrics') and self.learner.model.training:\n",
    "            self.losses.append(self.learner.loss.item())\n",
    "            self.mbar.update_graph([[fc.L.range(self.losses), self.losses]])\n",
    "        "
   ]
  },
  {
   "cell_type": "code",
   "execution_count": null,
   "id": "9fecf34f-40ba-461b-a00b-7a9f9e6fb5be",
   "metadata": {},
   "outputs": [],
   "source": [
    "#| export\n",
    "def to_cpu(x):\n",
    "    if isinstance(x, Mapping): return {k:to_cpu(v) for k,v in x.items()}\n",
    "    if isinstance(x, list): return [to_cpu(o) for o in x]\n",
    "    if isinstance(x, tuple): return tuple(to_cpu(list(x)))\n",
    "    return x.detach().cpu()"
   ]
  },
  {
   "cell_type": "code",
   "execution_count": null,
   "id": "fe2a1533",
   "metadata": {},
   "outputs": [],
   "source": [
    "#|export\n",
    "class CancelFitException(Exception): pass\n",
    "class CancelBatchException(Exception): pass\n",
    "class CancelEpochException(Exception): pass"
   ]
  },
  {
   "cell_type": "code",
   "execution_count": null,
   "id": "9539fd6d",
   "metadata": {},
   "outputs": [],
   "source": [
    "#| export\n",
    "class with_callbacks:\n",
    "    def __init__(self,nm): self.nm=nm\n",
    "    \n",
    "    def __call__(self,f):\n",
    "        def _f(o, *args, **kwargs):\n",
    "            try:\n",
    "                o.callback(f'before_{self.nm}')\n",
    "                f(o, *args, **kwargs)\n",
    "                o.callback(f'after_{self.nm}')\n",
    "            except globals()[f'Cancel{self.nm.title()}Exception']: pass\n",
    "        return _f"
   ]
  },
  {
   "cell_type": "code",
   "execution_count": null,
   "id": "1047d03d",
   "metadata": {},
   "outputs": [],
   "source": [
    "#| export \n",
    "class Core:\n",
    "    def predict(self): self.learner.preds = self.learner.model(self.learner.xb)\n",
    "    def get_loss(self): self.learner.loss = self.learner.loss_func(self.learner.preds, self.learner.yb)\n",
    "    def backward(self): self.learner.loss.backward()\n",
    "    def step(self): self.learner.opt.step()\n",
    "    def zero_grad(self): self.learner.opt.zero_grad()"
   ]
  },
  {
   "cell_type": "code",
   "execution_count": null,
   "id": "c9122c38",
   "metadata": {},
   "outputs": [],
   "source": [
    "#|export\n",
    "class MomentumLearner(Core):\n",
    "    def __init__(self, mom=0.85):\n",
    "        self.mom = mom\n",
    "        super().__init__()\n",
    "\n",
    "    def zero_grad(self):\n",
    "        with torch.no_grad():\n",
    "            for p in self.learner.model.parameters(): p.grad *= self.mom"
   ]
  },
  {
   "cell_type": "code",
   "execution_count": null,
   "id": "80677bb9-8f7c-42c3-86b0-b8ec9c6b4065",
   "metadata": {},
   "outputs": [],
   "source": [
    "#| export\n",
    "class Learner:\n",
    "    def __init__(self, model, core, dls, callbacks, loss_func, lr, opt_func=optim.SGD): \n",
    "        fc.store_attr()\n",
    "        for cb in self.callbacks: cb.learner=self\n",
    "        self.callbacks.sort\n",
    "        self.core.learner=self\n",
    "\n",
    "    @with_callbacks('batch')\n",
    "    def one_batch(self):\n",
    "        self.xb,self.yb = self.batch\n",
    "        self.core.predict()\n",
    "        self.core.get_loss()\n",
    "        if self.model.training:\n",
    "            self.core.backward()\n",
    "            self.core.step()\n",
    "            self.core.zero_grad()\n",
    "\n",
    "    def one_epoch(self, train):\n",
    "        self.model.training = train\n",
    "        self.dl = self.dls.train if train else self.dls.valid\n",
    "        self._one_epoch()\n",
    "    \n",
    "    @with_callbacks('epoch')\n",
    "    def _one_epoch(self):\n",
    "        for self.num,self.batch in enumerate(self.dl): self.one_batch()\n",
    "\n",
    "        \n",
    "    def fit(self, n_epochs):\n",
    "        self.n_epochs = n_epochs\n",
    "        self.epochs = range(n_epochs)\n",
    "        self.opt = self.opt_func(self.model.parameters(), self.lr)\n",
    "        self._fit()\n",
    "            \n",
    "    @with_callbacks('fit')\n",
    "    def _fit(self):\n",
    "        for self.epoch in self.epochs:\n",
    "            self.one_epoch(True)\n",
    "            with torch.no_grad(): self.one_epoch(False)\n",
    "\n",
    "    def callback(self, method_nm): \n",
    "        for cb in self.callbacks: getattr(cb, method_nm, identity)()   "
   ]
  },
  {
   "cell_type": "code",
   "execution_count": null,
   "id": "838d14b7",
   "metadata": {},
   "outputs": [],
   "source": [
    "class LRFinderCB(Callback):\n",
    "    def __init__(self, lr_mult=1.3): fc.store_attr()\n",
    "    \n",
    "    def before_fit(self):\n",
    "        self.lrs,self.losses = [],[]\n",
    "        self.min = math.inf\n",
    "\n",
    "    def after_batch(self):\n",
    "        if not self.trainer.model.training: raise CancelEpochException()\n",
    "        self.lrs.append(self.trainer.opt.param_groups[0]['lr'])\n",
    "        loss = self.trainer.loss\n",
    "        self.losses.append(loss)\n",
    "        if loss < self.min: self.min = loss\n",
    "        if loss > self.min*3: raise CancelFitException()\n",
    "        for g in self.trainer.opt.param_groups: g['lr'] *= self.lr_mult"
   ]
  },
  {
   "cell_type": "code",
   "execution_count": null,
   "id": "fa905afc",
   "metadata": {},
   "outputs": [],
   "source": [
    "m,nh,out = 28*28,50,10\n",
    "model = nn.Sequential(nn.Linear(m,nh), nn.ReLU(), nn.Linear(nh,out))\n",
    "loss_func=nn.CrossEntropyLoss()"
   ]
  },
  {
   "cell_type": "code",
   "execution_count": null,
   "id": "b756cab7",
   "metadata": {},
   "outputs": [
    {
     "data": {
      "text/html": [
       "\n",
       "<style>\n",
       "    /* Turns off some styling */\n",
       "    progress {\n",
       "        /* gets rid of default border in Firefox and Opera. */\n",
       "        border: none;\n",
       "        /* Needs to be in here for Safari polyfill so background images work as expected. */\n",
       "        background-size: auto;\n",
       "    }\n",
       "    progress:not([value]), progress:not([value])::-webkit-progress-bar {\n",
       "        background: repeating-linear-gradient(45deg, #7e7e7e, #7e7e7e 10px, #5c5c5c 10px, #5c5c5c 20px);\n",
       "    }\n",
       "    .progress-bar-interrupted, .progress-bar-interrupted::-webkit-progress-bar {\n",
       "        background: #F44336;\n",
       "    }\n",
       "</style>\n"
      ],
      "text/plain": [
       "<IPython.core.display.HTML object>"
      ]
     },
     "metadata": {},
     "output_type": "display_data"
    },
    {
     "data": {
      "text/html": [
       "<table border=\"1\" class=\"dataframe\">\n",
       "  <thead>\n",
       "    <tr style=\"text-align: left;\">\n",
       "      <th>accuracy</th>\n",
       "      <th>loss</th>\n",
       "      <th>epoch</th>\n",
       "      <th>train</th>\n",
       "    </tr>\n",
       "  </thead>\n",
       "  <tbody>\n",
       "    <tr>\n",
       "      <td>0.601</td>\n",
       "      <td>1.187</td>\n",
       "      <td>0</td>\n",
       "      <td>True</td>\n",
       "    </tr>\n",
       "    <tr>\n",
       "      <td>0.726</td>\n",
       "      <td>0.764</td>\n",
       "      <td>0</td>\n",
       "      <td>False</td>\n",
       "    </tr>\n",
       "    <tr>\n",
       "      <td>0.745</td>\n",
       "      <td>0.705</td>\n",
       "      <td>1</td>\n",
       "      <td>True</td>\n",
       "    </tr>\n",
       "    <tr>\n",
       "      <td>0.763</td>\n",
       "      <td>0.658</td>\n",
       "      <td>1</td>\n",
       "      <td>False</td>\n",
       "    </tr>\n",
       "    <tr>\n",
       "      <td>0.780</td>\n",
       "      <td>0.615</td>\n",
       "      <td>2</td>\n",
       "      <td>True</td>\n",
       "    </tr>\n",
       "    <tr>\n",
       "      <td>0.754</td>\n",
       "      <td>0.658</td>\n",
       "      <td>2</td>\n",
       "      <td>False</td>\n",
       "    </tr>\n",
       "  </tbody>\n",
       "</table>"
      ],
      "text/plain": [
       "<IPython.core.display.HTML object>"
      ]
     },
     "metadata": {},
     "output_type": "display_data"
    },
    {
     "data": {
      "image/png": "[encoded data removed]",
      "text/plain": [
       "<Figure size 432x288 with 1 Axes>"
      ]
     },
     "metadata": {},
     "output_type": "display_data"
    }
   ],
   "source": [
    "metrics = MetricsCB(accuracy=MulticlassAccuracy())\n",
    "train=Learner(model, Core(), dls, [metrics,ProgressCB(plot=True)],F.cross_entropy,lr=0.2)\n",
    "train.fit(3)"
   ]
  },
  {
   "cell_type": "code",
   "execution_count": null,
   "id": "92b993c8-a696-4d69-bb44-f17f62d50ade",
   "metadata": {},
   "outputs": [
    {
     "data": {
      "text/plain": [
       "\u001b[0;31mInit signature:\u001b[0m \u001b[0mLearner\u001b[0m\u001b[0;34m(\u001b[0m\u001b[0mmodel\u001b[0m\u001b[0;34m,\u001b[0m \u001b[0mdls\u001b[0m\u001b[0;34m,\u001b[0m \u001b[0mloss_func\u001b[0m\u001b[0;34m,\u001b[0m \u001b[0mlr\u001b[0m\u001b[0;34m,\u001b[0m \u001b[0mopt_func\u001b[0m\u001b[0;34m=\u001b[0m\u001b[0;34m<\u001b[0m\u001b[0;32mclass\u001b[0m \u001b[0;34m'torch.optim.sgd.SGD'\u001b[0m\u001b[0;34m>\u001b[0m\u001b[0;34m)\u001b[0m\u001b[0;34m\u001b[0m\u001b[0;34m\u001b[0m\u001b[0m\n",
       "\u001b[0;31mDocstring:\u001b[0m      <no docstring>\n",
       "\u001b[0;31mType:\u001b[0m           type\n",
       "\u001b[0;31mSubclasses:\u001b[0m     \n"
      ]
     },
     "metadata": {},
     "output_type": "display_data"
    }
   ],
   "source": [
    "Learner?"
   ]
  },
  {
   "cell_type": "code",
   "execution_count": null,
   "id": "927b6968",
   "metadata": {},
   "outputs": [],
   "source": [
    "import nbdev; nbdev.nbdev_export()"
   ]
  },
  {
   "cell_type": "code",
   "execution_count": null,
   "id": "4dd6eba4-b162-4d0e-971f-460c61fcb9a1",
   "metadata": {},
   "outputs": [],
   "source": []
  }
 ],
 "metadata": {
  "kernelspec": {
   "display_name": "dlfs",
   "language": "python",
   "name": "dlfs"
  }
 },
 "nbformat": 4,
 "nbformat_minor": 5
}
