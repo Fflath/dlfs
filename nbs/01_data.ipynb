{
 "cells": [
  {
   "cell_type": "code",
   "execution_count": null,
   "id": "5ca61ddd",
   "metadata": {},
   "outputs": [],
   "source": [
    "#| default_exp Dataset"
   ]
  },
  {
   "cell_type": "code",
   "execution_count": null,
   "id": "2f9ceb5b",
   "metadata": {},
   "outputs": [],
   "source": [
    "#|hide\n",
    "%load_ext autoreload\n",
    "%autoreload 2"
   ]
  },
  {
   "cell_type": "code",
   "execution_count": null,
   "id": "f2f3f3ae",
   "metadata": {},
   "outputs": [],
   "source": [
    "#| export \n",
    "import fastcore.all as fc\n",
    "import random\n",
    "import torch.multiprocessing as mp"
   ]
  },
  {
   "cell_type": "code",
   "execution_count": null,
   "id": "7dbc6d32",
   "metadata": {},
   "outputs": [],
   "source": [
    "#| export\n",
    "import torch\n",
    "from torch import nn\n",
    "from torch.utils.data import DataLoader\n",
    "from torchvision import datasets\n",
    "from torchvision.transforms import ToTensor\n",
    "import torchvision\n"
   ]
  },
  {
   "cell_type": "code",
   "execution_count": null,
   "id": "b22c57ef",
   "metadata": {},
   "outputs": [],
   "source": [
    "# Download training data from open datasets.\n",
    "training_data = datasets.FashionMNIST(\n",
    "    root=\"data\",\n",
    "    train=True,\n",
    "    download=True,\n",
    "    transform=ToTensor(),\n",
    ")\n",
    "\n",
    "# Download test data from open datasets.\n",
    "test_data = datasets.FashionMNIST(\n",
    "    root=\"data\",\n",
    "    train=False,\n",
    "    download=True,\n",
    "    transform=ToTensor(),\n",
    ")"
   ]
  },
  {
   "cell_type": "code",
   "execution_count": null,
   "id": "6f652f8e",
   "metadata": {},
   "outputs": [],
   "source": [
    "#| export\n",
    "class Dataset:\n",
    "    def __init__(self, x, y): fc.store_attr()\n",
    "        \n",
    "    def __len__(self): return len(self.x)\n",
    "    \n",
    "    def __getitem__(self,i): return self.x[i], self.y[i]\n",
    "    \n",
    "    def split(self, percent=0.2):\n",
    "        res = list(range(len(self.x)))\n",
    "        random.shuffle(res)\n",
    "        sp=int(len(self.x)*0.2)\n",
    "        return Dataset(self.x[res[sp:]],self.y[res[sp:]]),Dataset(self.x[res[:sp]],self.y[res[:sp]])"
   ]
  },
  {
   "cell_type": "code",
   "execution_count": null,
   "id": "4efaf397",
   "metadata": {},
   "outputs": [],
   "source": [
    "#| export\n",
    "def collate(b):\n",
    "    xs,ys = zip(*b)\n",
    "    return torch.stack(xs),torch.stack(ys)"
   ]
  },
  {
   "cell_type": "code",
   "execution_count": null,
   "id": "cf3c0ac9",
   "metadata": {},
   "outputs": [],
   "source": [
    "#| export\n",
    "class Sampler():\n",
    "    def __init__(self, ds, shuffle=False): self.n,self.shuffle = len(ds),shuffle\n",
    "    def __iter__(self):\n",
    "        res = list(range(self.n))\n",
    "        if self.shuffle: random.shuffle(res)\n",
    "        return iter(res)"
   ]
  },
  {
   "cell_type": "code",
   "execution_count": null,
   "id": "d86cdd93",
   "metadata": {},
   "outputs": [],
   "source": [
    "#| export\n",
    "class BatchSampler():\n",
    "    def __init__(self, sampler, bs, drop_last=False): fc.store_attr()\n",
    "    def __iter__(self): yield from fc.chunked(iter(self.sampler), self.bs, drop_last=self.drop_last)"
   ]
  },
  {
   "cell_type": "code",
   "execution_count": null,
   "id": "c8af3cf0",
   "metadata": {},
   "outputs": [],
   "source": [
    "#| export\n",
    "class DataLoader():\n",
    "    def __init__(self, ds, batchs, n_workers=1, collate_fn=collate): fc.store_attr()\n",
    "    def __iter__(self):\n",
    "        yield from map(self.ds.__getitem__, iter(self.batchs))\n",
    "     "
   ]
  },
  {
   "cell_type": "code",
   "execution_count": null,
   "id": "29e07a03",
   "metadata": {},
   "outputs": [],
   "source": [
    "#| export \n",
    "\n",
    "def get_dataset():\n",
    "    data = datasets.FashionMNIST(root=\"data\",train=True,download=True,transform=ToTensor())\n",
    "    data = Dataset(torch.flatten(data.data, start_dim=1).float(),data.targets)\n",
    "    t,v=data.split()\n",
    "    td=DataLoader(t, BatchSampler(Sampler(t,True),64))\n",
    "    vd=DataLoader(v, BatchSampler(Sampler(v),2*64))\n",
    "    return td, vd"
   ]
  },
  {
   "cell_type": "code",
   "execution_count": null,
   "id": "e2d94ca3",
   "metadata": {},
   "outputs": [],
   "source": [
    "#|export\n",
    "def accuracy(out, yb): return (out.argmax(dim=1)==yb).float().mean()"
   ]
  },
  {
   "cell_type": "code",
   "execution_count": null,
   "id": "7c1692be",
   "metadata": {},
   "outputs": [],
   "source": [
    "import nbdev; nbdev.nbdev_export()"
   ]
  },
  {
   "cell_type": "code",
   "execution_count": null,
   "id": "c14fbe0c",
   "metadata": {},
   "outputs": [],
   "source": []
  }
 ],
 "metadata": {
  "kernelspec": {
   "display_name": "dlfs",
   "language": "python",
   "name": "dlfs"
  }
 },
 "nbformat": 4,
 "nbformat_minor": 5
}
