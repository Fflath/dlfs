{
 "cells": [
  {
   "cell_type": "code",
   "execution_count": null,
   "id": "12058b67-e220-4cf3-beb4-27fac5512f95",
   "metadata": {},
   "outputs": [],
   "source": [
    "#| default_exp Learner"
   ]
  },
  {
   "cell_type": "code",
   "execution_count": null,
   "id": "22af6dec-fdd5-4a28-85b1-12e056059740",
   "metadata": {},
   "outputs": [],
   "source": [
    "import nbdev; nbdev.nbdev_export()"
   ]
  },
  {
   "cell_type": "code",
   "execution_count": null,
   "id": "29889134-aaf0-416e-a34c-19d2c92fa33f",
   "metadata": {},
   "outputs": [],
   "source": []
  }
 ],
 "metadata": {
  "kernelspec": {
   "display_name": "dlfs",
   "language": "python",
   "name": "dlfs"
  }
 },
 "nbformat": 4,
 "nbformat_minor": 5
}
